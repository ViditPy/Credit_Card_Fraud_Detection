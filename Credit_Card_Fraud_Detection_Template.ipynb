{
  "nbformat": 4,
  "nbformat_minor": 0,
  "metadata": {
    "kernelspec": {
      "language": "python",
      "display_name": "Python 3",
      "name": "python3"
    },
    "language_info": {
      "pygments_lexer": "ipython3",
      "nbconvert_exporter": "python",
      "version": "3.6.4",
      "file_extension": ".py",
      "codemirror_mode": {
        "name": "ipython",
        "version": 3
      },
      "name": "python",
      "mimetype": "text/x-python"
    },
    "colab": {
      "name": "Credit Card Fraud Detection_Template.ipynb",
      "provenance": [],
      "collapsed_sections": []
    }
  },
  "cells": [
    {
      "cell_type": "markdown",
      "metadata": {
        "id": "616NjvDmetYF",
        "colab_type": "text"
      },
      "source": [
        "## Problem Statement\n",
        "Given the transaction history of credit cards we have to predict the transactions as fraudulent or non-fraudulent. "
      ]
    },
    {
      "cell_type": "markdown",
      "metadata": {
        "id": "UTyGK_V0etYd",
        "colab_type": "text"
      },
      "source": [
        "## Background\n",
        "Suppose one day you wake up and recieve a message on your text that some amount has been deducted from your card for some purchase of say item 'x'. But you didn't made any purchase from your card, someone with your card cardentials or by any anhyhow has made a purchase through your card.It is important that credit card companies are able to recognize fraudulent credit card transactions so that customers are not charged for items that they did not purchase. The banks fraud detection system saves you from these kind of fraudulent activities."
      ]
    },
    {
      "cell_type": "code",
      "metadata": {
        "trusted": true,
        "id": "CySvWMttetYV",
        "colab_type": "code",
        "colab": {}
      },
      "source": [
        "import pandas as pd\n",
        "import numpy as np\n",
        "import matplotlib.pyplot as plt\n",
        "import seaborn as sns\n",
        "from matplotlib import style\n",
        "style.use('ggplot')\n",
        "%matplotlib inline\n",
        "plt.rcParams['figure.figsize'] = (15, 8)\n",
        "\n",
        "seed = 999"
      ],
      "execution_count": 0,
      "outputs": []
    },
    {
      "cell_type": "markdown",
      "metadata": {
        "id": "gnYNFMfuetYe",
        "colab_type": "text"
      },
      "source": [
        "## Data Definition\n",
        "[Data Source](https://www.kaggle.com/mlg-ulb/creditcardfraud)\n",
        "* The datasets contains transactions made by credit cards in September 2013 by european cardholders.\n",
        "* This dataset contains 284,807 records and 31 features.  \n",
        "* Features V1, V2, … V28 are the principal components obtained with PCA. \n",
        "* The only features which have not been transformed with PCA are 'Time' and 'Amount'. Feature 'Time'.\n",
        "* Feature 'Class' is the response variable and it takes value 1 in case of fraud and 0 otherwise."
      ]
    },
    {
      "cell_type": "markdown",
      "metadata": {
        "id": "vRrQ6KU_hxDi",
        "colab_type": "text"
      },
      "source": [
        "### Load Data"
      ]
    },
    {
      "cell_type": "code",
      "metadata": {
        "_uuid": "d629ff2d2480ee46fbb7e2d37f6b5fab8052498a",
        "_cell_guid": "79c7e3d0-c299-4dcb-8224-4455121ee9b0",
        "trusted": true,
        "id": "WpaPHc-LetYh",
        "colab_type": "code",
        "colab": {}
      },
      "source": [
        "train = pd.read_csv('path')"
      ],
      "execution_count": 0,
      "outputs": []
    },
    {
      "cell_type": "markdown",
      "metadata": {
        "id": "zdd1sqFketYq",
        "colab_type": "text"
      },
      "source": [
        "### Check Data"
      ]
    },
    {
      "cell_type": "code",
      "metadata": {
        "trusted": true,
        "id": "3IbHZBPDetYr",
        "colab_type": "code",
        "colab": {}
      },
      "source": [
        "#TODO : check the shape of the data"
      ],
      "execution_count": 0,
      "outputs": []
    },
    {
      "cell_type": "markdown",
      "metadata": {
        "id": "BbMX-kPvetYz",
        "colab_type": "text"
      },
      "source": [
        "### Check head of the data"
      ]
    },
    {
      "cell_type": "code",
      "metadata": {
        "trusted": true,
        "id": "359rYncmetY0",
        "colab_type": "code",
        "colab": {}
      },
      "source": [
        "#TODO : Check head"
      ],
      "execution_count": 0,
      "outputs": []
    },
    {
      "cell_type": "markdown",
      "metadata": {
        "id": "uzS-vjW5etZC",
        "colab_type": "text"
      },
      "source": [
        "### Check the Information"
      ]
    },
    {
      "cell_type": "code",
      "metadata": {
        "trusted": true,
        "id": "7xlauug7etZE",
        "colab_type": "code",
        "colab": {}
      },
      "source": [
        "#ToDo : Check Information"
      ],
      "execution_count": 0,
      "outputs": []
    },
    {
      "cell_type": "markdown",
      "metadata": {
        "id": "XNCSEV-5etZU",
        "colab_type": "text"
      },
      "source": [
        "### Check Null Values"
      ]
    },
    {
      "cell_type": "code",
      "metadata": {
        "trusted": true,
        "id": "W3paUCZdetZV",
        "colab_type": "code",
        "colab": {}
      },
      "source": [
        "#TODO : check null values"
      ],
      "execution_count": 0,
      "outputs": []
    },
    {
      "cell_type": "markdown",
      "metadata": {
        "id": "-_Yx5BthetZ1",
        "colab_type": "text"
      },
      "source": [
        "### check Description"
      ]
    },
    {
      "cell_type": "code",
      "metadata": {
        "trusted": true,
        "id": "Q9GyyvOxetZ3",
        "colab_type": "code",
        "colab": {}
      },
      "source": [
        "#TODO : check description"
      ],
      "execution_count": 0,
      "outputs": []
    },
    {
      "cell_type": "markdown",
      "metadata": {
        "id": "vP2pz7LbetaQ",
        "colab_type": "text"
      },
      "source": [
        "## Exploratory Data Analysis\n",
        "Since all the features are anonymized. We will focus our EDA on Time, Amount and target feature (Class)."
      ]
    },
    {
      "cell_type": "markdown",
      "metadata": {
        "id": "t5iAC2PgetaS",
        "colab_type": "text"
      },
      "source": [
        "### Plot Histogram to check the distribution of Amount"
      ]
    },
    {
      "cell_type": "code",
      "metadata": {
        "trusted": true,
        "id": "x_7d7xCEetad",
        "colab_type": "code",
        "colab": {}
      },
      "source": [
        "#TODO : Write code to check the dstribution of Amount"
      ],
      "execution_count": 0,
      "outputs": []
    },
    {
      "cell_type": "markdown",
      "metadata": {
        "id": "4bP9Qj00etan",
        "colab_type": "text"
      },
      "source": [
        "### Plot histogram to see distribution of time"
      ]
    },
    {
      "cell_type": "code",
      "metadata": {
        "trusted": true,
        "id": "GAqUnTWretao",
        "colab_type": "code",
        "colab": {}
      },
      "source": [
        "#TODO : Write code to check dstribtuion of Time"
      ],
      "execution_count": 0,
      "outputs": []
    },
    {
      "cell_type": "markdown",
      "metadata": {
        "id": "sOdzeifsetaw",
        "colab_type": "text"
      },
      "source": [
        "### Check the Target column (Class)"
      ]
    },
    {
      "cell_type": "code",
      "metadata": {
        "trusted": true,
        "id": "rp5lwAXSetax",
        "colab_type": "code",
        "colab": {}
      },
      "source": [
        "#TODO : Check number of values in each class by ploting a bar grpah or countplot"
      ],
      "execution_count": 0,
      "outputs": []
    },
    {
      "cell_type": "markdown",
      "metadata": {
        "id": "0UzsAzCmeta7",
        "colab_type": "text"
      },
      "source": [
        "### Count percentage of positive and negative class"
      ]
    },
    {
      "cell_type": "code",
      "metadata": {
        "trusted": true,
        "id": "LJnK2M6Eeta8",
        "colab_type": "code",
        "colab": {}
      },
      "source": [
        " # TODO: check percentage of positive and negative class"
      ],
      "execution_count": 0,
      "outputs": []
    },
    {
      "cell_type": "markdown",
      "metadata": {
        "id": "CS-9KXcVetbD",
        "colab_type": "text"
      },
      "source": [
        "### Check the Distibution of fraudulent and non-fraudulent transactions seperately"
      ]
    },
    {
      "cell_type": "code",
      "metadata": {
        "trusted": true,
        "id": "2UeXOqVJetbE",
        "colab_type": "code",
        "colab": {}
      },
      "source": [
        "fraud_cases =   #TODO : keep all the fraud cases \n",
        "non_fraud_cases =  #TODO: keep all the non-fraud cases"
      ],
      "execution_count": 0,
      "outputs": []
    },
    {
      "cell_type": "markdown",
      "metadata": {
        "id": "IQaxFkH4etbL",
        "colab_type": "text"
      },
      "source": [
        "### Plot histogram to check the distribution of Amount in fraud cases"
      ]
    },
    {
      "cell_type": "code",
      "metadata": {
        "trusted": true,
        "id": "1539ISg1etbM",
        "colab_type": "code",
        "colab": {}
      },
      "source": [
        "#TODO : Write your code here"
      ],
      "execution_count": 0,
      "outputs": []
    },
    {
      "cell_type": "markdown",
      "metadata": {
        "id": "ore2ujVhetbU",
        "colab_type": "text"
      },
      "source": [
        "### Plot histogram to check the distribution of Amount in fraud cases"
      ]
    },
    {
      "cell_type": "code",
      "metadata": {
        "trusted": true,
        "id": "vfF5VBpRetbV",
        "colab_type": "code",
        "colab": {}
      },
      "source": [
        "#Todo : Write your code here"
      ],
      "execution_count": 0,
      "outputs": []
    },
    {
      "cell_type": "markdown",
      "metadata": {
        "id": "3tRFgTObetbd",
        "colab_type": "text"
      },
      "source": [
        "### Plot the Distribution of Time for fraud and non-fraud cases"
      ]
    },
    {
      "cell_type": "code",
      "metadata": {
        "trusted": true,
        "id": "jJ0UJov3etbd",
        "colab_type": "code",
        "colab": {}
      },
      "source": [
        "#TODO : Write your code to check distribution of time in fraud cases"
      ],
      "execution_count": 0,
      "outputs": []
    },
    {
      "cell_type": "code",
      "metadata": {
        "trusted": true,
        "id": "MEmidBZGetbi",
        "colab_type": "code",
        "colab": {}
      },
      "source": [
        "#TODO : Write your code to check distribution of time in non fraud cases"
      ],
      "execution_count": 0,
      "outputs": []
    },
    {
      "cell_type": "markdown",
      "metadata": {
        "id": "dnc49SEletbn",
        "colab_type": "text"
      },
      "source": [
        "### Check the Correlation between the variables using Heatmap"
      ]
    },
    {
      "cell_type": "code",
      "metadata": {
        "trusted": true,
        "id": "utdk-Fj8etbo",
        "colab_type": "code",
        "colab": {}
      },
      "source": [
        "#TODO : Write your code to check the correlation between the variables"
      ],
      "execution_count": 0,
      "outputs": []
    },
    {
      "cell_type": "markdown",
      "metadata": {
        "id": "sxnOTckIlfTz",
        "colab_type": "text"
      },
      "source": [
        "### Plot heatmap for the correlation"
      ]
    },
    {
      "cell_type": "code",
      "metadata": {
        "trusted": true,
        "id": "rqOShAVaetbt",
        "colab_type": "code",
        "colab": {}
      },
      "source": [
        "#TODO : Write your code here"
      ],
      "execution_count": 0,
      "outputs": []
    },
    {
      "cell_type": "markdown",
      "metadata": {
        "id": "fKI0--y7etb0",
        "colab_type": "text"
      },
      "source": [
        "## Data Preperation"
      ]
    },
    {
      "cell_type": "markdown",
      "metadata": {
        "id": "broJ2qHEetb1",
        "colab_type": "text"
      },
      "source": [
        "### Scale Amount and Time"
      ]
    },
    {
      "cell_type": "code",
      "metadata": {
        "trusted": true,
        "id": "ns6oFKWSetb2",
        "colab_type": "code",
        "colab": {}
      },
      "source": [
        "from sklearn.preprocessing import StandardScaler\n",
        "#TODO : write your code to scale the Time and Amount features"
      ],
      "execution_count": 0,
      "outputs": []
    },
    {
      "cell_type": "markdown",
      "metadata": {
        "id": "bidAK3cRetcC",
        "colab_type": "text"
      },
      "source": [
        "## Handling Imbalanced Class\n",
        "* **Random Over Sampling**\n",
        "    \n",
        "    In over sampling we make the instances of minority class equal to the majority class. Suppose out of  100 there are only 2 fraud cases. By over sampling  we make the instances of fraud cases from 2 to 100 by duplicating.\n",
        "    \n",
        "* **Random Down Sampling**\n",
        "\n",
        "    In random down sampling we make the instances of majority class equal to minority class. In our previous example down sampling will result in 2 cases of frauds and 2 cases of non-frauds.\n",
        "\n",
        "Each of these techniques possess challenges as well. If our dataset is very big then **over sampling will make our dataset even bigger. And there will be time complexity as we are almost doubling the dataset and if we Down sample the minority classes we will miss the instances and specific patterns present in our dataset.**\n"
      ]
    },
    {
      "cell_type": "markdown",
      "metadata": {
        "id": "s18sZqX8etcD",
        "colab_type": "text"
      },
      "source": [
        "While splitting our dataset into training and testing we should make sure to have same proportion of classes in both training and testing set as it was there in original dataset."
      ]
    },
    {
      "cell_type": "markdown",
      "metadata": {
        "id": "DeVuJNu7nBiK",
        "colab_type": "text"
      },
      "source": [
        "### Split the data into train and test\n",
        "\n"
      ]
    },
    {
      "cell_type": "code",
      "metadata": {
        "trusted": true,
        "id": "Ely7d2zJetcE",
        "colab_type": "code",
        "colab": {}
      },
      "source": [
        "# keep all the predictor variables in X and Classes in Y\n",
        "X = #TODO : Write your code\n",
        "Y = #TODO : Write your code"
      ],
      "execution_count": 0,
      "outputs": []
    },
    {
      "cell_type": "code",
      "metadata": {
        "trusted": true,
        "id": "23AQuqrGetcI",
        "colab_type": "code",
        "colab": {}
      },
      "source": [
        "#TODO : Check the shape of X and Y"
      ],
      "execution_count": 0,
      "outputs": []
    },
    {
      "cell_type": "code",
      "metadata": {
        "trusted": true,
        "id": "5OJhkLKBetcM",
        "colab_type": "code",
        "colab": {}
      },
      "source": [
        "#split the data into 67:33 ratio for training and testing\n",
        "from sklearn.model_selection import train_test_split, cross_val_score\n",
        "from sklearn.linear_model import LogisticRegression\n",
        "\n",
        "X_train,X_test,Y_train,Y_test = #TODO : Write your code here\n",
        "\n",
        "#check proportion of fraud and non-fraud cases in tarining and testing sets\n",
        "\n",
        "print('Proportion of classes in training set')\n",
        "#Todo : Write code to check ratio of fraud and non-fraud cases in training set\n",
        "\n",
        "print('Proportion of classes in test set')\n",
        "#Todo : Write code to check ratio of fraud and non-fraud cases in testing set"
      ],
      "execution_count": 0,
      "outputs": []
    },
    {
      "cell_type": "markdown",
      "metadata": {
        "id": "RgOe4Ko_etcS",
        "colab_type": "text"
      },
      "source": [
        "## Model Building"
      ]
    },
    {
      "cell_type": "markdown",
      "metadata": {
        "id": "ZAK1lEaXoxLx",
        "colab_type": "text"
      },
      "source": [
        "As we have a binary classification problem here i.e to predict the transactions as fraudulent and non-fraudulent. We will apply the logistic regression on on our datset. We will tune only the signle parameter **C** using GridSearchCV. Then we will check the auc_score as specified and look at the confusion matrix. Then we try to set the threshold which gives our model confidence to predict the fraudulent transactions. To read about Roc Auc score [Click Here](https://www.dataschool.io/roc-curves-and-auc-explained/)"
      ]
    },
    {
      "cell_type": "code",
      "metadata": {
        "trusted": true,
        "id": "190QkCGxetcS",
        "colab_type": "code",
        "colab": {}
      },
      "source": [
        "from sklearn.model_selection import GridSearchCV\n",
        "from sklearn.metrics import roc_auc_score, roc_curve, confusion_matrix\n",
        "clf = LogisticRegression(verbose=3,warm_start=True)\n",
        "# TODO : Write code to fit the logistic regression on our training set\n",
        "# TODO : Predict for testing set"
      ],
      "execution_count": 0,
      "outputs": []
    },
    {
      "cell_type": "markdown",
      "metadata": {
        "id": "I-sITIzcqPmQ",
        "colab_type": "text"
      },
      "source": [
        "### Check roc_auc score "
      ]
    },
    {
      "cell_type": "code",
      "metadata": {
        "trusted": true,
        "id": "MCJNvJEzetcX",
        "colab_type": "code",
        "colab": {}
      },
      "source": [
        "# TODO :check the roc_auc_score"
      ],
      "execution_count": 0,
      "outputs": []
    },
    {
      "cell_type": "markdown",
      "metadata": {
        "id": "t7Tveebsq2oB",
        "colab_type": "text"
      },
      "source": [
        "### Plot Confusion matrix"
      ]
    },
    {
      "cell_type": "code",
      "metadata": {
        "trusted": true,
        "id": "X2i44W3Tetcf",
        "colab_type": "code",
        "colab": {}
      },
      "source": [
        "pred_probas = logit_grid.predict_proba(X_train)[:, 1]\n",
        "fpr,tpr, thresholds = roc_curve(Y_train,pred_probas)\n",
        "# TODO : write your code here to plot fpr vs tpr graph"
      ],
      "execution_count": 0,
      "outputs": []
    },
    {
      "cell_type": "markdown",
      "metadata": {
        "id": "ppqgQsqbetck",
        "colab_type": "text"
      },
      "source": [
        "### Plot FPR vs TPR "
      ]
    },
    {
      "cell_type": "code",
      "metadata": {
        "trusted": true,
        "id": "V_wXSe2getcl",
        "colab_type": "code",
        "colab": {}
      },
      "source": [
        "# TODO : Write your code to plot and see roc_auc score at different thresholds"
      ],
      "execution_count": 0,
      "outputs": []
    },
    {
      "cell_type": "markdown",
      "metadata": {
        "id": "w7u2JQUDetcq",
        "colab_type": "text"
      },
      "source": [
        "### Set The Threshold"
      ]
    },
    {
      "cell_type": "code",
      "metadata": {
        "trusted": true,
        "id": "5FXUmHzIetcs",
        "colab_type": "code",
        "colab": {}
      },
      "source": [
        "#TODO : As per your observation set the threshold"
      ],
      "execution_count": 0,
      "outputs": []
    },
    {
      "cell_type": "markdown",
      "metadata": {
        "id": "kGllHWuNr0aK",
        "colab_type": "text"
      },
      "source": [
        "### Plot confusion matrix and check roc_auc_score"
      ]
    },
    {
      "cell_type": "code",
      "metadata": {
        "trusted": true,
        "id": "IUH7-GRbetc0",
        "colab_type": "code",
        "colab": {}
      },
      "source": [
        "# TODO : write your code here"
      ],
      "execution_count": 0,
      "outputs": []
    },
    {
      "cell_type": "markdown",
      "metadata": {
        "id": "85bP4S37sBwR",
        "colab_type": "text"
      },
      "source": [
        "## Colcusion\n",
        "Write down your colcusion"
      ]
    },
    {
      "cell_type": "code",
      "metadata": {
        "trusted": true,
        "id": "aYCRmV3QetdK",
        "colab_type": "code",
        "colab": {}
      },
      "source": [
        ""
      ],
      "execution_count": 0,
      "outputs": []
    }
  ]
}
